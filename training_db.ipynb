{
 "cells": [
  {
   "cell_type": "code",
   "execution_count": 1,
   "id": "f3441c11-05e1-4291-9732-afedc4cbaea3",
   "metadata": {},
   "outputs": [],
   "source": [
    "from src.modules.training_database.training_database_service import TrainingDatabaseService"
   ]
  },
  {
   "cell_type": "code",
   "execution_count": null,
   "id": "9ba87adf-366b-487b-a88d-bf5b8a5d6b34",
   "metadata": {},
   "outputs": [
    {
     "name": "stderr",
     "output_type": "stream",
     "text": [
      " 23%|██████████████████▌                                                               | 226/1000 [5:03:23<158:24:16, 736.77s/it]"
     ]
    }
   ],
   "source": [
    "TrainingDatabaseService.download_images_from_imgflip()"
   ]
  },
  {
   "cell_type": "code",
   "execution_count": 2,
   "id": "ac6d0c14-fbf3-4288-b584-f46dc7b3a58e",
   "metadata": {},
   "outputs": [],
   "source": [
    "TrainingDatabaseService.build_db()"
   ]
  },
  {
   "cell_type": "code",
   "execution_count": null,
   "id": "ea60be64-be24-4e78-87f0-dafac1dfd4c9",
   "metadata": {},
   "outputs": [],
   "source": []
  }
 ],
 "metadata": {
  "kernelspec": {
   "display_name": "mh",
   "language": "python",
   "name": "mh"
  },
  "language_info": {
   "codemirror_mode": {
    "name": "ipython",
    "version": 3
   },
   "file_extension": ".py",
   "mimetype": "text/x-python",
   "name": "python",
   "nbconvert_exporter": "python",
   "pygments_lexer": "ipython3",
   "version": "3.9.13"
  }
 },
 "nbformat": 4,
 "nbformat_minor": 5
}
