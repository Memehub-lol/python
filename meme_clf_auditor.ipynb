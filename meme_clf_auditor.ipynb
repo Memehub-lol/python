{
 "cells": [
  {
   "cell_type": "code",
   "execution_count": null,
   "id": "320d7d9a-6413-4ce0-b29c-b2720de2d42d",
   "metadata": {},
   "outputs": [],
   "source": [
    "from src.modules.interactive import entry_point"
   ]
  },
  {
   "cell_type": "code",
   "execution_count": null,
   "id": "e5b3907f-7ef2-45c8-8673-ef1bff804857",
   "metadata": {
    "tags": []
   },
   "outputs": [],
   "source": [
    "entry_point()"
   ]
  },
  {
   "cell_type": "code",
   "execution_count": null,
   "id": "b5d5202a-42e1-4000-9ee8-bc47158459ff",
   "metadata": {},
   "outputs": [],
   "source": []
  }
 ],
 "metadata": {
  "kernelspec": {
   "display_name": "mh",
   "language": "python",
   "name": "mh"
  },
  "language_info": {
   "codemirror_mode": {
    "name": "ipython",
    "version": 3
   },
   "file_extension": ".py",
   "mimetype": "text/x-python",
   "name": "python",
   "nbconvert_exporter": "python",
   "pygments_lexer": "ipython3",
   "version": "3.9.13"
  }
 },
 "nbformat": 4,
 "nbformat_minor": 5
}
