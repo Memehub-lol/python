{
 "cells": [
  {
   "cell_type": "code",
   "execution_count": null,
   "id": "0fdc4890-0d27-4481-9f6d-049c933adc6d",
   "metadata": {},
   "outputs": [],
   "source": [
    "from src.modules.ai.model_runner.model_runner import ModelRunner\n",
    "from src.modules.ai.model_runner.model_runner_dataset import Entity"
   ]
  },
  {
   "cell_type": "code",
   "execution_count": null,
   "id": "5ee0044d-4163-4036-a61b-0877e07877f8",
   "metadata": {},
   "outputs": [],
   "source": [
    "ModelRunner(entity=Entity.RedditMeme).execute(print_every=40)"
   ]
  },
  {
   "cell_type": "code",
   "execution_count": null,
   "id": "8cba74d7-0eaa-468f-89b6-9ac5b10ac9af",
   "metadata": {},
   "outputs": [],
   "source": []
  }
 ],
 "metadata": {
  "kernelspec": {
   "display_name": "mh",
   "language": "python",
   "name": "mh"
  },
  "language_info": {
   "codemirror_mode": {
    "name": "ipython",
    "version": 3
   },
   "file_extension": ".py",
   "mimetype": "text/x-python",
   "name": "python",
   "nbconvert_exporter": "python",
   "pygments_lexer": "ipython3",
   "version": "3.9.13"
  }
 },
 "nbformat": 4,
 "nbformat_minor": 5
}
